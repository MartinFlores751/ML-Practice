{
 "cells": [
  {
   "cell_type": "markdown",
   "metadata": {},
   "source": [
    "# Chapter 6\n",
    "## Decision Trees\n",
    "These bad boys can do both classification and regression tasks, even multioutput tasks!\n",
    "\n",
    "## Training and Visualizing a Decsion Tree"
   ]
  },
  {
   "cell_type": "code",
   "execution_count": 1,
   "metadata": {},
   "outputs": [
    {
     "data": {
      "text/plain": [
       "DecisionTreeClassifier(class_weight=None, criterion='gini', max_depth=2,\n",
       "            max_features=None, max_leaf_nodes=None,\n",
       "            min_impurity_decrease=0.0, min_impurity_split=None,\n",
       "            min_samples_leaf=1, min_samples_split=2,\n",
       "            min_weight_fraction_leaf=0.0, presort=False, random_state=None,\n",
       "            splitter='best')"
      ]
     },
     "execution_count": 1,
     "metadata": {},
     "output_type": "execute_result"
    }
   ],
   "source": [
    "from sklearn.datasets import load_iris\n",
    "from sklearn.tree import DecisionTreeClassifier\n",
    "\n",
    "iris = load_iris()\n",
    "X = iris.data[:, 2:] # petal len and wid\n",
    "y = iris.target\n",
    "\n",
    "tree_clf = DecisionTreeClassifier(max_depth=2)\n",
    "tree_clf.fit(X, y)"
   ]
  },
  {
   "cell_type": "markdown",
   "metadata": {},
   "source": [
    "You can visualize the tree by using the `export_graphviz()`t o output this to a dot file"
   ]
  },
  {
   "cell_type": "code",
   "execution_count": 2,
   "metadata": {},
   "outputs": [],
   "source": [
    "from sklearn.tree import export_graphviz\n",
    "\n",
    "export_graphviz(\n",
    "    tree_clf,\n",
    "    out_file=\"iris_tree.dot\",\n",
    "    feature_names=iris.feature_names[2:],\n",
    "    class_names=iris.target_names,\n",
    "    rounded=True,\n",
    "    filled=True\n",
    ")"
   ]
  },
  {
   "cell_type": "markdown",
   "metadata": {},
   "source": [
    "Checkout the dot file!!!"
   ]
  },
  {
   "cell_type": "markdown",
   "metadata": {},
   "source": [
    "## Making Predictions\n",
    "Wonder how a decsion tree works? It's a friggin tree! You move down till you hit a leaf!!!\n",
    "\n",
    "One of the cools things about Decision Trees is that they require very little data preperations. In particular, they don't require feature scaling.\n",
    "\n",
    "There's also a purty rating and other algorithms that implement more complex trees compared to binary trees.\n",
    "## Estimating Class Probabilites\n",
    "Here's the probas and predictons"
   ]
  },
  {
   "cell_type": "code",
   "execution_count": 3,
   "metadata": {},
   "outputs": [
    {
     "name": "stdout",
     "output_type": "stream",
     "text": [
      "Probabilites:  [[0.         0.90740741 0.09259259]]\n",
      "Predict:  [1]\n"
     ]
    }
   ],
   "source": [
    "print(\"Probabilites: \", tree_clf.predict_proba([[5, 1.5]]))\n",
    "print(\"Predict: \", tree_clf.predict([[5, 1.5]]))"
   ]
  },
  {
   "cell_type": "markdown",
   "metadata": {},
   "source": [
    "## The CART Train Algorithm\n",
    "Scikit uses the _Classification And Regression Tree_ (CART) algo to train decision trees. This happens to be a greedy algorithm, leading to good enough solutions. Finding the optimal tree is an _NP-Complete_ problem, requiring O(exp(_m_)) time.\n",
    "\n",
    "## Computational Complexity\n",
    "It's a binary tree, so it's O(log(_m_)), however, training leads to O(_n_ x _m log_(_m_)).\n",
    "\n",
    "## Gini Impurity or Entropy?\n",
    "While they are mostly the same, impurity is slightly easier to compute hence leading to faster generation, but entroy tends to produce more balanced trees.\n",
    "\n",
    "## Regularization Hyperparameters\n",
    "Because Decision Trees make few assumptions about the data, if left unconstrained, it will most likely overfit the data. This type of model is called a _nonparametric model_. A linear model would be called a _parametric model_ given it assumes linear data. Regularization is needed to prevent overfitting of data.\n",
    "\n",
    "## Regression\n",
    "Here's a quick regression tree!"
   ]
  },
  {
   "cell_type": "code",
   "execution_count": 4,
   "metadata": {},
   "outputs": [
    {
     "data": {
      "text/plain": [
       "DecisionTreeRegressor(criterion='mse', max_depth=2, max_features=None,\n",
       "           max_leaf_nodes=None, min_impurity_decrease=0.0,\n",
       "           min_impurity_split=None, min_samples_leaf=1,\n",
       "           min_samples_split=2, min_weight_fraction_leaf=0.0,\n",
       "           presort=False, random_state=None, splitter='best')"
      ]
     },
     "execution_count": 4,
     "metadata": {},
     "output_type": "execute_result"
    }
   ],
   "source": [
    "from sklearn.tree import DecisionTreeRegressor\n",
    "\n",
    "tree_reg = DecisionTreeRegressor(max_depth=2)\n",
    "tree_reg.fit(X, y)"
   ]
  },
  {
   "cell_type": "code",
   "execution_count": null,
   "metadata": {},
   "outputs": [],
   "source": []
  }
 ],
 "metadata": {
  "kernelspec": {
   "display_name": "Python 3",
   "language": "python",
   "name": "python3"
  },
  "language_info": {
   "codemirror_mode": {
    "name": "ipython",
    "version": 3
   },
   "file_extension": ".py",
   "mimetype": "text/x-python",
   "name": "python",
   "nbconvert_exporter": "python",
   "pygments_lexer": "ipython3",
   "version": "3.6.7"
  }
 },
 "nbformat": 4,
 "nbformat_minor": 2
}
