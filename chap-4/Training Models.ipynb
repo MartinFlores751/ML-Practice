{
 "cells": [
  {
   "cell_type": "markdown",
   "metadata": {},
   "source": [
    "# Chapter 4\n",
    "Welcome to chapter 4! Here I won't be taking too many notes as this chapter highly deals with the mathematics of ML, check out the chapter for all the notes!!!\n",
    "\n",
    "\n",
    "## Linear Regression\n",
    "Anywho, let's generate some linear looking data."
   ]
  },
  {
   "cell_type": "code",
   "execution_count": 1,
   "metadata": {},
   "outputs": [],
   "source": [
    "import numpy as np\n",
    "\n",
    "X = 2 * np.random.rand(100, 1)\n",
    "y = 4 + 3 * X + np.random.randn(100, 1)"
   ]
  },
  {
   "cell_type": "markdown",
   "metadata": {},
   "source": [
    "Now let's compute theta hat using the normal equation!"
   ]
  },
  {
   "cell_type": "code",
   "execution_count": 3,
   "metadata": {},
   "outputs": [],
   "source": [
    "X_b = np.c_[np.ones((100, 1)), X]  # add xTheta = 1 to each instance\n",
    "theta_best = np.linalg.inv(X_b.T.dot(X_b)).dot(X_b.T).dot(y)"
   ]
  },
  {
   "cell_type": "markdown",
   "metadata": {},
   "source": [
    "The acutall function used to generate the data is y = 4 + 3x + Gaussian noise\n",
    "\n",
    "Let's see what we predicted..."
   ]
  },
  {
   "cell_type": "code",
   "execution_count": 4,
   "metadata": {},
   "outputs": [
    {
     "name": "stdout",
     "output_type": "stream",
     "text": [
      "Pred:  [[3.87970451]\n",
      " [3.37257052]]\n"
     ]
    }
   ],
   "source": [
    "print(\"Pred: \", theta_best)"
   ]
  },
  {
   "cell_type": "markdown",
   "metadata": {},
   "source": [
    "Would've hopped it had been closer... let's try and make some predictions with Theta hat though!"
   ]
  },
  {
   "cell_type": "code",
   "execution_count": 5,
   "metadata": {},
   "outputs": [
    {
     "name": "stdout",
     "output_type": "stream",
     "text": [
      "Prediction:  [[ 3.87970451]\n",
      " [10.62484554]]\n"
     ]
    }
   ],
   "source": [
    "X_new = np.array([[0], [2]])\n",
    "X_new_b = np.c_[np.ones((2, 1)), X_new]  # add x0 = 1 to each instance\n",
    "y_predict = X_new_b.dot(theta_best)\n",
    "print(\"Prediction: \", y_predict)"
   ]
  },
  {
   "cell_type": "markdown",
   "metadata": {},
   "source": [
    "This doesn't tell use mutch... Let's plot it's predictions!"
   ]
  },
  {
   "cell_type": "code",
   "execution_count": 7,
   "metadata": {},
   "outputs": [
    {
     "data": {
      "image/png": "[encoded data removed]",
      "text/plain": [
       "<Figure size 432x288 with 1 Axes>"
      ]
     },
     "metadata": {
      "needs_background": "light"
     },
     "output_type": "display_data"
    }
   ],
   "source": [
    "%matplotlib inline\n",
    "import matplotlib\n",
    "import matplotlib.pyplot as plt\n",
    "\n",
    "plt.plot(X_new, y_predict, \"r-\")\n",
    "plt.plot(X, y, \"b.\")\n",
    "plt.axis([0, 2, 0, 15])\n",
    "plt.show()"
   ]
  },
  {
   "cell_type": "markdown",
   "metadata": {},
   "source": [
    "The equivalent Scikit code is the following"
   ]
  },
  {
   "cell_type": "code",
   "execution_count": 8,
   "metadata": {},
   "outputs": [
    {
     "name": "stdout",
     "output_type": "stream",
     "text": [
      "Intercept:  [3.87970451]\n",
      "Coeficient:  [[3.37257052]]\n",
      "Our prediction:  [[ 3.87970451]\n",
      " [10.62484554]]\n"
     ]
    }
   ],
   "source": [
    "from sklearn.linear_model import LinearRegression\n",
    "\n",
    "lin_reg = LinearRegression()\n",
    "lin_reg.fit(X, y)\n",
    "\n",
    "print(\"Intercept: \", lin_reg.intercept_)\n",
    "print(\"Coeficient: \", lin_reg.coef_)\n",
    "\n",
    "print(\"Our prediction: \", lin_reg.predict(X_new))"
   ]
  },
  {
   "cell_type": "markdown",
   "metadata": {},
   "source": [
    "## Computational Complexity\n",
    "The Normal Equation computes the inverse of X^T * X, which is typically gives a runtime of O(n^2.4) to O(n^3). This means the Normal Equation gets very slow when the amount of features grow very large.\n",
    "\n",
    "One the plus side the equation is linear in regards to the instances in the training set O(m), so it handels large training sets efficiently, provided they can fit in memory.\n",
    "\n",
    "Another plus is once you trianed your model, it's predictions are very fast! Afterall, the computational complexity is linear.\n",
    "\n",
    "## Gradient Descent\n",
    "Problems is that we may end up stuck on the local minima!\n",
    "When using gradient descent, make sure all of the features have the same scale!!!\n",
    "\n",
    "### Batch Gradient Descent\n",
    "This uses calculations over the whole trianing set at each Gradient Descent Step! It's the reason why it's called _Batch Gradient Descent_. As a result, it's terribly slow on very large trainging sets (We will see a much faster version shortly).\n",
    "\n",
    "Here's a quick implementation"
   ]
  },
  {
   "cell_type": "code",
   "execution_count": 9,
   "metadata": {},
   "outputs": [],
   "source": [
    "eta = 0.1  # Learining rate\n",
    "n_iterations = 1000\n",
    "m = 100\n",
    "\n",
    "theta = np.random.randn(2, 1)  # random initialization\n",
    "\n",
    "for iteration in range(n_iterations):\n",
    "    gradients = 2/m * X_b.T.dot(X_b.dot(theta) - y)\n",
    "    theta = theta - eta * gradients"
   ]
  },
  {
   "cell_type": "markdown",
   "metadata": {},
   "source": [
    "Not to hard! Let's look at the resulting theta!"
   ]
  },
  {
   "cell_type": "code",
   "execution_count": 10,
   "metadata": {},
   "outputs": [
    {
     "name": "stdout",
     "output_type": "stream",
     "text": [
      "Theta:  [[3.87970451]\n",
      " [3.37257052]]\n"
     ]
    }
   ],
   "source": [
    "print(\"Theta: \", theta)"
   ]
  },
  {
   "cell_type": "markdown",
   "metadata": {},
   "source": [
    "### Stochastic Gradient Descent\n",
    "The main problem with Batch Gradient Descent is the fact that is uses the whole training set to compute the gradients at every step, which makes it very slow when the training set is large.\n",
    "\n",
    "At the extreme opposite, _Stochastic Gradient Descent_ just picks a random instance every step and computes the gradient based only on that single instance. This makes it much faster since it has much less data to manipulate every itteration. It makes it possible to train on HUGE datasets since only one instance needs to be in memory at each iterations (SDG can be implemented sa an out-of-core algorithm).\n",
    "\n",
    "The problem with this algoritm is that it's much less regular and more random the Batch Gradient Descent. Instead of gently going down, it will bounce around a bit, and when it gets close to the minimum, it will continue to bounce around. You end up with good paramaters but not the best.\n",
    "\n",
    "The bouncing can acutally help to find the local minima, but the bouncing make it not stay! One solution is to gradually reduce the learning rate. This process is called _simulated annealing_. The function that determinse the learning rate at each itteration is called the _learning schedual_.\n",
    "\n",
    "The following code implements Stochastic Gradeint Descent."
   ]
  },
  {
   "cell_type": "code",
   "execution_count": 11,
   "metadata": {},
   "outputs": [],
   "source": [
    "n_epochs = 50\n",
    "t0, t1 = 5, 50  # Learning schedule hyperparameters\n",
    "\n",
    "def learning_schedule(t):\n",
    "    return t0 / (t + t1)\n",
    "\n",
    "theta = np.random.randn(2, 1)  # random initialization\n",
    "\n",
    "for epoch in range(n_epochs):\n",
    "    for i in range(m):\n",
    "        random_index = np.random.randint(m)\n",
    "        xi = X_b[random_index:random_index+1]\n",
    "        yi = y[random_index:random_index+1]\n",
    "        gradients = 2 * xi.T.dot(xi.dot(theta) - yi)\n",
    "        eta = learning_schedule(epoch * m + i)\n",
    "        theta = theta - eta * gradients"
   ]
  },
  {
   "cell_type": "code",
   "execution_count": null,
   "metadata": {},
   "outputs": [],
   "source": []
  }
 ],
 "metadata": {
  "kernelspec": {
   "display_name": "Python 3",
   "language": "python",
   "name": "python3"
  },
  "language_info": {
   "codemirror_mode": {
    "name": "ipython",
    "version": 3
   },
   "file_extension": ".py",
   "mimetype": "text/x-python",
   "name": "python",
   "nbconvert_exporter": "python",
   "pygments_lexer": "ipython3",
   "version": "3.6.7"
  }
 },
 "nbformat": 4,
 "nbformat_minor": 2
}
